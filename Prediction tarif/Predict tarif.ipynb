{
 "cells": [
  {
   "cell_type": "markdown",
   "id": "7ec2e5ad",
   "metadata": {},
   "source": [
    "## Цели: \n",
    "- построить модель для задачи классификации, которая выберет подходящий тариф\n",
    "- исследовать разные модели классификации и максимизировать точность"
   ]
  },
  {
   "cell_type": "markdown",
   "id": "3d124ef7",
   "metadata": {},
   "source": [
    "#### Импорт и просмотр данных"
   ]
  },
  {
   "cell_type": "code",
   "execution_count": 1,
   "id": "49212552",
   "metadata": {},
   "outputs": [],
   "source": [
    "import pandas as pd\n",
    "import numpy as np\n",
    "\n",
    "import seaborn as sns\n",
    "\n",
    "from sklearn.metrics import accuracy_score\n",
    "from sklearn.neighbors import KNeighborsClassifier\n",
    "from sklearn.model_selection import train_test_split"
   ]
  },
  {
   "cell_type": "code",
   "execution_count": 2,
   "id": "7cccd4a3",
   "metadata": {},
   "outputs": [
    {
     "data": {
      "text/html": [
       "<div>\n",
       "<style scoped>\n",
       "    .dataframe tbody tr th:only-of-type {\n",
       "        vertical-align: middle;\n",
       "    }\n",
       "\n",
       "    .dataframe tbody tr th {\n",
       "        vertical-align: top;\n",
       "    }\n",
       "\n",
       "    .dataframe thead th {\n",
       "        text-align: right;\n",
       "    }\n",
       "</style>\n",
       "<table border=\"1\" class=\"dataframe\">\n",
       "  <thead>\n",
       "    <tr style=\"text-align: right;\">\n",
       "      <th></th>\n",
       "      <th>calls</th>\n",
       "      <th>minutes</th>\n",
       "      <th>messages</th>\n",
       "      <th>mb_used</th>\n",
       "      <th>is_ultra</th>\n",
       "    </tr>\n",
       "  </thead>\n",
       "  <tbody>\n",
       "    <tr>\n",
       "      <th>0</th>\n",
       "      <td>40.0</td>\n",
       "      <td>311.90</td>\n",
       "      <td>83.0</td>\n",
       "      <td>19915.42</td>\n",
       "      <td>0</td>\n",
       "    </tr>\n",
       "    <tr>\n",
       "      <th>1</th>\n",
       "      <td>85.0</td>\n",
       "      <td>516.75</td>\n",
       "      <td>56.0</td>\n",
       "      <td>22696.96</td>\n",
       "      <td>0</td>\n",
       "    </tr>\n",
       "    <tr>\n",
       "      <th>2</th>\n",
       "      <td>77.0</td>\n",
       "      <td>467.66</td>\n",
       "      <td>86.0</td>\n",
       "      <td>21060.45</td>\n",
       "      <td>0</td>\n",
       "    </tr>\n",
       "    <tr>\n",
       "      <th>3</th>\n",
       "      <td>106.0</td>\n",
       "      <td>745.53</td>\n",
       "      <td>81.0</td>\n",
       "      <td>8437.39</td>\n",
       "      <td>1</td>\n",
       "    </tr>\n",
       "    <tr>\n",
       "      <th>4</th>\n",
       "      <td>66.0</td>\n",
       "      <td>418.74</td>\n",
       "      <td>1.0</td>\n",
       "      <td>14502.75</td>\n",
       "      <td>0</td>\n",
       "    </tr>\n",
       "  </tbody>\n",
       "</table>\n",
       "</div>"
      ],
      "text/plain": [
       "   calls  minutes  messages   mb_used  is_ultra\n",
       "0   40.0   311.90      83.0  19915.42         0\n",
       "1   85.0   516.75      56.0  22696.96         0\n",
       "2   77.0   467.66      86.0  21060.45         0\n",
       "3  106.0   745.53      81.0   8437.39         1\n",
       "4   66.0   418.74       1.0  14502.75         0"
      ]
     },
     "execution_count": 2,
     "metadata": {},
     "output_type": "execute_result"
    }
   ],
   "source": [
    "data = pd.read_csv(\"users_behavior.csv\")\n",
    "data.head()"
   ]
  },
  {
   "cell_type": "markdown",
   "id": "aeacb6de",
   "metadata": {},
   "source": [
    "#### Анализ"
   ]
  },
  {
   "cell_type": "markdown",
   "id": "70eeae20",
   "metadata": {},
   "source": [
    "Посмотрим на типы данных. Нужны типы float и int для корректного обучения"
   ]
  },
  {
   "cell_type": "code",
   "execution_count": 3,
   "id": "6200aa92",
   "metadata": {},
   "outputs": [
    {
     "data": {
      "text/plain": [
       "calls       float64\n",
       "minutes     float64\n",
       "messages    float64\n",
       "mb_used     float64\n",
       "is_ultra      int64\n",
       "dtype: object"
      ]
     },
     "execution_count": 3,
     "metadata": {},
     "output_type": "execute_result"
    }
   ],
   "source": [
    "data.dtypes"
   ]
  },
  {
   "cell_type": "markdown",
   "id": "186ef705",
   "metadata": {},
   "source": [
    "Все хорошо. Иду дальше"
   ]
  },
  {
   "cell_type": "markdown",
   "id": "670982c2",
   "metadata": {},
   "source": [
    "Проверим наличие нулевых значений в датасете"
   ]
  },
  {
   "cell_type": "code",
   "execution_count": 5,
   "id": "65d39cd8",
   "metadata": {},
   "outputs": [
    {
     "data": {
      "text/plain": [
       "calls       0\n",
       "minutes     0\n",
       "messages    0\n",
       "mb_used     0\n",
       "is_ultra    0\n",
       "dtype: int64"
      ]
     },
     "execution_count": 5,
     "metadata": {},
     "output_type": "execute_result"
    }
   ],
   "source": [
    "data.isnull().sum()"
   ]
  },
  {
   "cell_type": "code",
   "execution_count": 7,
   "id": "0649b625",
   "metadata": {},
   "outputs": [
    {
     "data": {
      "text/html": [
       "<div>\n",
       "<style scoped>\n",
       "    .dataframe tbody tr th:only-of-type {\n",
       "        vertical-align: middle;\n",
       "    }\n",
       "\n",
       "    .dataframe tbody tr th {\n",
       "        vertical-align: top;\n",
       "    }\n",
       "\n",
       "    .dataframe thead th {\n",
       "        text-align: right;\n",
       "    }\n",
       "</style>\n",
       "<table border=\"1\" class=\"dataframe\">\n",
       "  <thead>\n",
       "    <tr style=\"text-align: right;\">\n",
       "      <th></th>\n",
       "      <th>calls</th>\n",
       "      <th>minutes</th>\n",
       "      <th>messages</th>\n",
       "      <th>mb_used</th>\n",
       "    </tr>\n",
       "    <tr>\n",
       "      <th>is_ultra</th>\n",
       "      <th></th>\n",
       "      <th></th>\n",
       "      <th></th>\n",
       "      <th></th>\n",
       "    </tr>\n",
       "  </thead>\n",
       "  <tbody>\n",
       "    <tr>\n",
       "      <th>0</th>\n",
       "      <td>58.463437</td>\n",
       "      <td>405.942952</td>\n",
       "      <td>33.384029</td>\n",
       "      <td>16208.466949</td>\n",
       "    </tr>\n",
       "    <tr>\n",
       "      <th>1</th>\n",
       "      <td>73.392893</td>\n",
       "      <td>511.224569</td>\n",
       "      <td>49.363452</td>\n",
       "      <td>19468.823228</td>\n",
       "    </tr>\n",
       "  </tbody>\n",
       "</table>\n",
       "</div>"
      ],
      "text/plain": [
       "              calls     minutes   messages       mb_used\n",
       "is_ultra                                                \n",
       "0         58.463437  405.942952  33.384029  16208.466949\n",
       "1         73.392893  511.224569  49.363452  19468.823228"
      ]
     },
     "execution_count": 7,
     "metadata": {},
     "output_type": "execute_result"
    }
   ],
   "source": [
    "data.groupby(['is_ultra']).mean() # средние показатели на тариф"
   ]
  },
  {
   "cell_type": "markdown",
   "id": "66769954",
   "metadata": {},
   "source": [
    "#### Визуализация"
   ]
  },
  {
   "cell_type": "markdown",
   "id": "aeb7379d",
   "metadata": {},
   "source": [
    "Посмотрим на гистограммы каждого показателя: кол-во звонков, кол-во минут, кол-во смс и кол-во мегабайт интернета. \n",
    "И посмотрим на форму KDE для интереса"
   ]
  },
  {
   "cell_type": "code",
   "execution_count": 8,
   "id": "a9922bc5",
   "metadata": {},
   "outputs": [
    {
     "data": {
      "text/plain": [
       "<seaborn.axisgrid.FacetGrid at 0x259519eb550>"
      ]
     },
     "execution_count": 8,
     "metadata": {},
     "output_type": "execute_result"
    },
    {
     "data": {
      "image/png": "[encoded data removed]",
      "text/plain": [
       "<Figure size 360x360 with 1 Axes>"
      ]
     },
     "metadata": {
      "needs_background": "light"
     },
     "output_type": "display_data"
    }
   ],
   "source": [
    "sns.displot(data=data, x=\"calls\", kde=True)"
   ]
  },
  {
   "cell_type": "code",
   "execution_count": 9,
   "id": "09ea0d44",
   "metadata": {},
   "outputs": [
    {
     "data": {
      "text/plain": [
       "<seaborn.axisgrid.FacetGrid at 0x259521eeac0>"
      ]
     },
     "execution_count": 9,
     "metadata": {},
     "output_type": "execute_result"
    },
    {
     "data": {
      "image/png": "[encoded data removed]",
      "text/plain": [
       "<Figure size 360x360 with 1 Axes>"
      ]
     },
     "metadata": {
      "needs_background": "light"
     },
     "output_type": "display_data"
    }
   ],
   "source": [
    "sns.displot(data=data, x=\"minutes\", kde=True)"
   ]
  },
  {
   "cell_type": "code",
   "execution_count": 10,
   "id": "2784ae93",
   "metadata": {},
   "outputs": [
    {
     "data": {
      "text/plain": [
       "<seaborn.axisgrid.FacetGrid at 0x25952306520>"
      ]
     },
     "execution_count": 10,
     "metadata": {},
     "output_type": "execute_result"
    },
    {
     "data": {
      "image/png": "[encoded data removed]",
      "text/plain": [
       "<Figure size 360x360 with 1 Axes>"
      ]
     },
     "metadata": {
      "needs_background": "light"
     },
     "output_type": "display_data"
    }
   ],
   "source": [
    "sns.displot(data=data, x=\"messages\", kde=True)"
   ]
  },
  {
   "cell_type": "code",
   "execution_count": 11,
   "id": "e4718dd8",
   "metadata": {},
   "outputs": [
    {
     "data": {
      "text/plain": [
       "<seaborn.axisgrid.FacetGrid at 0x25952461ee0>"
      ]
     },
     "execution_count": 11,
     "metadata": {},
     "output_type": "execute_result"
    },
    {
     "data": {
      "image/png": "[encoded data removed]",
      "text/plain": [
       "<Figure size 360x360 with 1 Axes>"
      ]
     },
     "metadata": {
      "needs_background": "light"
     },
     "output_type": "display_data"
    }
   ],
   "source": [
    "sns.displot(data=data, x=\"mb_used\",kde=True)"
   ]
  },
  {
   "cell_type": "markdown",
   "id": "26b7ebec",
   "metadata": {},
   "source": [
    "#### Подготовка данных"
   ]
  },
  {
   "cell_type": "code",
   "execution_count": 13,
   "id": "7e4119cc",
   "metadata": {},
   "outputs": [],
   "source": [
    "X = data[['calls','minutes','messages','mb_used']]\n",
    "Y = data.is_ultra"
   ]
  },
  {
   "cell_type": "code",
   "execution_count": 14,
   "id": "5f9a6ec7",
   "metadata": {},
   "outputs": [],
   "source": [
    "X_train, X_test, y_train, y_test = train_test_split(X, Y, random_state=42) #разделение"
   ]
  },
  {
   "cell_type": "code",
   "execution_count": 15,
   "id": "70723491",
   "metadata": {},
   "outputs": [
    {
     "data": {
      "text/html": [
       "<div>\n",
       "<style scoped>\n",
       "    .dataframe tbody tr th:only-of-type {\n",
       "        vertical-align: middle;\n",
       "    }\n",
       "\n",
       "    .dataframe tbody tr th {\n",
       "        vertical-align: top;\n",
       "    }\n",
       "\n",
       "    .dataframe thead th {\n",
       "        text-align: right;\n",
       "    }\n",
       "</style>\n",
       "<table border=\"1\" class=\"dataframe\">\n",
       "  <thead>\n",
       "    <tr style=\"text-align: right;\">\n",
       "      <th></th>\n",
       "      <th>calls</th>\n",
       "      <th>minutes</th>\n",
       "      <th>messages</th>\n",
       "      <th>mb_used</th>\n",
       "    </tr>\n",
       "  </thead>\n",
       "  <tbody>\n",
       "    <tr>\n",
       "      <th>744</th>\n",
       "      <td>22.0</td>\n",
       "      <td>155.06</td>\n",
       "      <td>22.0</td>\n",
       "      <td>2253.50</td>\n",
       "    </tr>\n",
       "    <tr>\n",
       "      <th>226</th>\n",
       "      <td>54.0</td>\n",
       "      <td>418.34</td>\n",
       "      <td>85.0</td>\n",
       "      <td>15291.95</td>\n",
       "    </tr>\n",
       "    <tr>\n",
       "      <th>2402</th>\n",
       "      <td>143.0</td>\n",
       "      <td>905.06</td>\n",
       "      <td>109.0</td>\n",
       "      <td>18553.82</td>\n",
       "    </tr>\n",
       "    <tr>\n",
       "      <th>2840</th>\n",
       "      <td>88.0</td>\n",
       "      <td>464.78</td>\n",
       "      <td>66.0</td>\n",
       "      <td>15602.34</td>\n",
       "    </tr>\n",
       "    <tr>\n",
       "      <th>881</th>\n",
       "      <td>82.0</td>\n",
       "      <td>692.25</td>\n",
       "      <td>38.0</td>\n",
       "      <td>21644.14</td>\n",
       "    </tr>\n",
       "    <tr>\n",
       "      <th>...</th>\n",
       "      <td>...</td>\n",
       "      <td>...</td>\n",
       "      <td>...</td>\n",
       "      <td>...</td>\n",
       "    </tr>\n",
       "    <tr>\n",
       "      <th>1095</th>\n",
       "      <td>62.0</td>\n",
       "      <td>454.02</td>\n",
       "      <td>35.0</td>\n",
       "      <td>15018.46</td>\n",
       "    </tr>\n",
       "    <tr>\n",
       "      <th>1130</th>\n",
       "      <td>69.0</td>\n",
       "      <td>465.96</td>\n",
       "      <td>12.0</td>\n",
       "      <td>14982.27</td>\n",
       "    </tr>\n",
       "    <tr>\n",
       "      <th>1294</th>\n",
       "      <td>40.0</td>\n",
       "      <td>280.44</td>\n",
       "      <td>2.0</td>\n",
       "      <td>13934.54</td>\n",
       "    </tr>\n",
       "    <tr>\n",
       "      <th>860</th>\n",
       "      <td>72.0</td>\n",
       "      <td>410.23</td>\n",
       "      <td>68.0</td>\n",
       "      <td>16006.55</td>\n",
       "    </tr>\n",
       "    <tr>\n",
       "      <th>3174</th>\n",
       "      <td>79.0</td>\n",
       "      <td>537.10</td>\n",
       "      <td>25.0</td>\n",
       "      <td>21223.37</td>\n",
       "    </tr>\n",
       "  </tbody>\n",
       "</table>\n",
       "<p>2410 rows × 4 columns</p>\n",
       "</div>"
      ],
      "text/plain": [
       "      calls  minutes  messages   mb_used\n",
       "744    22.0   155.06      22.0   2253.50\n",
       "226    54.0   418.34      85.0  15291.95\n",
       "2402  143.0   905.06     109.0  18553.82\n",
       "2840   88.0   464.78      66.0  15602.34\n",
       "881    82.0   692.25      38.0  21644.14\n",
       "...     ...      ...       ...       ...\n",
       "1095   62.0   454.02      35.0  15018.46\n",
       "1130   69.0   465.96      12.0  14982.27\n",
       "1294   40.0   280.44       2.0  13934.54\n",
       "860    72.0   410.23      68.0  16006.55\n",
       "3174   79.0   537.10      25.0  21223.37\n",
       "\n",
       "[2410 rows x 4 columns]"
      ]
     },
     "execution_count": 15,
     "metadata": {},
     "output_type": "execute_result"
    }
   ],
   "source": [
    "X_train"
   ]
  },
  {
   "cell_type": "code",
   "execution_count": 16,
   "id": "5356be05",
   "metadata": {},
   "outputs": [
    {
     "data": {
      "text/plain": [
       "744     1\n",
       "226     0\n",
       "2402    1\n",
       "2840    0\n",
       "881     0\n",
       "       ..\n",
       "1095    0\n",
       "1130    0\n",
       "1294    0\n",
       "860     0\n",
       "3174    0\n",
       "Name: is_ultra, Length: 2410, dtype: int64"
      ]
     },
     "execution_count": 16,
     "metadata": {},
     "output_type": "execute_result"
    }
   ],
   "source": [
    "y_train"
   ]
  },
  {
   "cell_type": "markdown",
   "id": "b72e04db",
   "metadata": {},
   "source": [
    "# Обучение"
   ]
  },
  {
   "cell_type": "markdown",
   "id": "16d80977",
   "metadata": {},
   "source": [
    "попробуем KNN, Linear Classifier, Decision Tree и RandomForestClassifier"
   ]
  },
  {
   "cell_type": "markdown",
   "id": "8221e0fa",
   "metadata": {},
   "source": [
    "## K-nearest Neighbors (KNN) Classification Model"
   ]
  },
  {
   "cell_type": "code",
   "execution_count": 17,
   "id": "f478b73b",
   "metadata": {},
   "outputs": [
    {
     "data": {
      "text/plain": [
       "0.7898009950248757"
      ]
     },
     "execution_count": 17,
     "metadata": {},
     "output_type": "execute_result"
    }
   ],
   "source": [
    "knn = KNeighborsClassifier()\n",
    "knn.fit(X_train, y_train)\n",
    "y_pred = knn.predict(X_test)\n",
    "knn_accuracy = accuracy_score(y_test, y_pred)\n",
    "knn_accuracy"
   ]
  },
  {
   "cell_type": "markdown",
   "id": "b7e204ae",
   "metadata": {},
   "source": [
    "## Linear Classifier with Perceptron"
   ]
  },
  {
   "cell_type": "code",
   "execution_count": 18,
   "id": "c42f85a9",
   "metadata": {},
   "outputs": [
    {
     "data": {
      "text/plain": [
       "0.7089552238805971"
      ]
     },
     "execution_count": 18,
     "metadata": {},
     "output_type": "execute_result"
    }
   ],
   "source": [
    "from sklearn.linear_model import Perceptron\n",
    "\n",
    "per = Perceptron(random_state = 40)\n",
    "per.fit(X_train, y_train)\n",
    "y_pred = per.predict(X_test)\n",
    "per_accuracy = accuracy_score(y_test, y_pred)\n",
    "per_accuracy"
   ]
  },
  {
   "cell_type": "markdown",
   "id": "9675ed31",
   "metadata": {},
   "source": [
    "## Decision Tree"
   ]
  },
  {
   "cell_type": "code",
   "execution_count": 19,
   "id": "12ac3511",
   "metadata": {},
   "outputs": [],
   "source": [
    "from sklearn.tree import DecisionTreeClassifier"
   ]
  },
  {
   "cell_type": "code",
   "execution_count": 20,
   "id": "a0612770",
   "metadata": {},
   "outputs": [],
   "source": [
    "loanTree = DecisionTreeClassifier(max_depth = 4)"
   ]
  },
  {
   "cell_type": "code",
   "execution_count": 21,
   "id": "761856b7",
   "metadata": {},
   "outputs": [
    {
     "data": {
      "text/plain": [
       "0.8059701492537313"
      ]
     },
     "execution_count": 21,
     "metadata": {},
     "output_type": "execute_result"
    }
   ],
   "source": [
    "loanTree.fit(X_train,y_train)\n",
    "y_pred = loanTree.predict(X_test)\n",
    "decision_tree_accuracy = accuracy_score(y_test, y_pred)\n",
    "decision_tree_accuracy"
   ]
  },
  {
   "cell_type": "markdown",
   "id": "35a2e6e6",
   "metadata": {},
   "source": [
    "## RandomForestClassifier"
   ]
  },
  {
   "cell_type": "code",
   "execution_count": 29,
   "id": "ed08ab00",
   "metadata": {},
   "outputs": [
    {
     "data": {
      "text/plain": [
       "0.8233830845771144"
      ]
     },
     "execution_count": 29,
     "metadata": {},
     "output_type": "execute_result"
    }
   ],
   "source": [
    "from sklearn.ensemble import RandomForestClassifier\n",
    "\n",
    "forest = RandomForestClassifier(n_estimators=1000)\n",
    "forest.fit(X_train,y_train)\n",
    "y_pred = forest.predict(X_test)\n",
    "forest_accuracy = accuracy_score(y_test, y_pred)\n",
    "forest_accuracy"
   ]
  },
  {
   "cell_type": "markdown",
   "id": "6c0eb8d4",
   "metadata": {},
   "source": [
    "## Итог"
   ]
  },
  {
   "cell_type": "code",
   "execution_count": 36,
   "id": "3f6c39ae",
   "metadata": {},
   "outputs": [
    {
     "data": {
      "text/html": [
       "<style  type=\"text/css\" >\n",
       "#T_4325c_row0_col0{\n",
       "            background-color:  #3f007d;\n",
       "            color:  #f1f1f1;\n",
       "        }#T_4325c_row1_col0{\n",
       "            background-color:  #582f93;\n",
       "            color:  #f1f1f1;\n",
       "        }#T_4325c_row2_col0{\n",
       "            background-color:  #7261ab;\n",
       "            color:  #000000;\n",
       "        }#T_4325c_row3_col0{\n",
       "            background-color:  #fcfbfd;\n",
       "            color:  #000000;\n",
       "        }</style><table id=\"T_4325c_\" ><thead>    <tr>        <th class=\"blank level0\" ></th>        <th class=\"col_heading level0 col0\" >accuracy_score</th>    </tr>    <tr>        <th class=\"index_name level0\" >name</th>        <th class=\"blank\" ></th>    </tr></thead><tbody>\n",
       "                <tr>\n",
       "                        <th id=\"T_4325c_level0_row0\" class=\"row_heading level0 row0\" >RandomForestClassifier</th>\n",
       "                        <td id=\"T_4325c_row0_col0\" class=\"data row0 col0\" >0.823383</td>\n",
       "            </tr>\n",
       "            <tr>\n",
       "                        <th id=\"T_4325c_level0_row1\" class=\"row_heading level0 row1\" >Decision Tree</th>\n",
       "                        <td id=\"T_4325c_row1_col0\" class=\"data row1 col0\" >0.805970</td>\n",
       "            </tr>\n",
       "            <tr>\n",
       "                        <th id=\"T_4325c_level0_row2\" class=\"row_heading level0 row2\" >KNN</th>\n",
       "                        <td id=\"T_4325c_row2_col0\" class=\"data row2 col0\" >0.789801</td>\n",
       "            </tr>\n",
       "            <tr>\n",
       "                        <th id=\"T_4325c_level0_row3\" class=\"row_heading level0 row3\" >Linear Classifier</th>\n",
       "                        <td id=\"T_4325c_row3_col0\" class=\"data row3 col0\" >0.708955</td>\n",
       "            </tr>\n",
       "    </tbody></table>"
      ],
      "text/plain": [
       "<pandas.io.formats.style.Styler at 0x2595681b970>"
      ]
     },
     "execution_count": 36,
     "metadata": {},
     "output_type": "execute_result"
    }
   ],
   "source": [
    "summary = pd.DataFrame([['KNN', knn_accuracy], ['Linear Classifier', per_accuracy], ['Decision Tree', decision_tree_accuracy],['RandomForestClassifier', forest_accuracy]], columns=['name', 'accuracy_score']).set_index(['name']).sort_values(by='accuracy_score', ascending = False)\n",
    "summary.style.background_gradient(cmap = 'Purples')"
   ]
  },
  {
   "cell_type": "markdown",
   "id": "dbee8207",
   "metadata": {},
   "source": [
    "лучшим оказался RandomForestClassifier"
   ]
  }
 ],
 "metadata": {
  "kernelspec": {
   "display_name": "Python 3",
   "language": "python",
   "name": "python3"
  },
  "language_info": {
   "codemirror_mode": {
    "name": "ipython",
    "version": 3
   },
   "file_extension": ".py",
   "mimetype": "text/x-python",
   "name": "python",
   "nbconvert_exporter": "python",
   "pygments_lexer": "ipython3",
   "version": "3.8.8"
  }
 },
 "nbformat": 4,
 "nbformat_minor": 5
}
