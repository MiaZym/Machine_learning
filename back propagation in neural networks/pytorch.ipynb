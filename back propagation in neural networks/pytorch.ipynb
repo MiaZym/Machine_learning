{
  "nbformat": 4,
  "nbformat_minor": 0,
  "metadata": {
    "colab": {
      "provenance": []
    },
    "kernelspec": {
      "name": "python3",
      "display_name": "Python 3"
    },
    "language_info": {
      "name": "python"
    }
  },
  "cells": [
    {
      "cell_type": "markdown",
      "source": [
        "# Импорт"
      ],
      "metadata": {
        "id": "mpmtsRxwAPQ6"
      }
    },
    {
      "cell_type": "code",
      "execution_count": null,
      "metadata": {
        "id": "QCsFvVyod2nw"
      },
      "outputs": [],
      "source": [
        "import numpy as np\n",
        "import pandas as pd\n",
        "import matplotlib.pyplot as plt\n",
        "\n",
        "from sklearn.model_selection import train_test_split\n",
        "from sklearn.metrics import accuracy_score\n",
        "from sklearn.preprocessing import StandardScaler\n",
        "\n",
        "import torch\n",
        "import torch.nn as nn\n",
        "import torch.optim as optim"
      ]
    },
    {
      "cell_type": "markdown",
      "source": [
        "# Загрузка данных, преобразование"
      ],
      "metadata": {
        "id": "6a228roaATjC"
      }
    },
    {
      "cell_type": "code",
      "source": [
        "data = pd.read_csv('https://drive.google.com/u/0/uc?id=1fbr91UzoCsgAEtCxam_gS8reuULMCpKj&export=download')\n",
        "data.head()"
      ],
      "metadata": {
        "colab": {
          "base_uri": "https://localhost:8080/",
          "height": 206
        },
        "id": "rlhqPX-_d7Aj",
        "outputId": "28a8aea2-b03b-4985-eb31-1e4c3b10336d"
      },
      "execution_count": null,
      "outputs": [
        {
          "output_type": "execute_result",
          "data": {
            "text/plain": [
              "   Pregnancies  Glucose  BloodPressure  SkinThickness  Insulin   BMI  \\\n",
              "0            6      148             72             35        0  33.6   \n",
              "1            1       85             66             29        0  26.6   \n",
              "2            8      183             64              0        0  23.3   \n",
              "3            1       89             66             23       94  28.1   \n",
              "4            0      137             40             35      168  43.1   \n",
              "\n",
              "   DiabetesPedigreeFunction  Age  Outcome  \n",
              "0                     0.627   50        1  \n",
              "1                     0.351   31        0  \n",
              "2                     0.672   32        1  \n",
              "3                     0.167   21        0  \n",
              "4                     2.288   33        1  "
            ],
            "text/html": [
              "\n",
              "  <div id=\"df-2f084935-ec9d-4e42-99b3-79b069863986\">\n",
              "    <div class=\"colab-df-container\">\n",
              "      <div>\n",
              "<style scoped>\n",
              "    .dataframe tbody tr th:only-of-type {\n",
              "        vertical-align: middle;\n",
              "    }\n",
              "\n",
              "    .dataframe tbody tr th {\n",
              "        vertical-align: top;\n",
              "    }\n",
              "\n",
              "    .dataframe thead th {\n",
              "        text-align: right;\n",
              "    }\n",
              "</style>\n",
              "<table border=\"1\" class=\"dataframe\">\n",
              "  <thead>\n",
              "    <tr style=\"text-align: right;\">\n",
              "      <th></th>\n",
              "      <th>Pregnancies</th>\n",
              "      <th>Glucose</th>\n",
              "      <th>BloodPressure</th>\n",
              "      <th>SkinThickness</th>\n",
              "      <th>Insulin</th>\n",
              "      <th>BMI</th>\n",
              "      <th>DiabetesPedigreeFunction</th>\n",
              "      <th>Age</th>\n",
              "      <th>Outcome</th>\n",
              "    </tr>\n",
              "  </thead>\n",
              "  <tbody>\n",
              "    <tr>\n",
              "      <th>0</th>\n",
              "      <td>6</td>\n",
              "      <td>148</td>\n",
              "      <td>72</td>\n",
              "      <td>35</td>\n",
              "      <td>0</td>\n",
              "      <td>33.6</td>\n",
              "      <td>0.627</td>\n",
              "      <td>50</td>\n",
              "      <td>1</td>\n",
              "    </tr>\n",
              "    <tr>\n",
              "      <th>1</th>\n",
              "      <td>1</td>\n",
              "      <td>85</td>\n",
              "      <td>66</td>\n",
              "      <td>29</td>\n",
              "      <td>0</td>\n",
              "      <td>26.6</td>\n",
              "      <td>0.351</td>\n",
              "      <td>31</td>\n",
              "      <td>0</td>\n",
              "    </tr>\n",
              "    <tr>\n",
              "      <th>2</th>\n",
              "      <td>8</td>\n",
              "      <td>183</td>\n",
              "      <td>64</td>\n",
              "      <td>0</td>\n",
              "      <td>0</td>\n",
              "      <td>23.3</td>\n",
              "      <td>0.672</td>\n",
              "      <td>32</td>\n",
              "      <td>1</td>\n",
              "    </tr>\n",
              "    <tr>\n",
              "      <th>3</th>\n",
              "      <td>1</td>\n",
              "      <td>89</td>\n",
              "      <td>66</td>\n",
              "      <td>23</td>\n",
              "      <td>94</td>\n",
              "      <td>28.1</td>\n",
              "      <td>0.167</td>\n",
              "      <td>21</td>\n",
              "      <td>0</td>\n",
              "    </tr>\n",
              "    <tr>\n",
              "      <th>4</th>\n",
              "      <td>0</td>\n",
              "      <td>137</td>\n",
              "      <td>40</td>\n",
              "      <td>35</td>\n",
              "      <td>168</td>\n",
              "      <td>43.1</td>\n",
              "      <td>2.288</td>\n",
              "      <td>33</td>\n",
              "      <td>1</td>\n",
              "    </tr>\n",
              "  </tbody>\n",
              "</table>\n",
              "</div>\n",
              "      <button class=\"colab-df-convert\" onclick=\"convertToInteractive('df-2f084935-ec9d-4e42-99b3-79b069863986')\"\n",
              "              title=\"Convert this dataframe to an interactive table.\"\n",
              "              style=\"display:none;\">\n",
              "        \n",
              "  <svg xmlns=\"http://www.w3.org/2000/svg\" height=\"24px\"viewBox=\"0 0 24 24\"\n",
              "       width=\"24px\">\n",
              "    <path d=\"M0 0h24v24H0V0z\" fill=\"none\"/>\n",
              "    <path d=\"M18.56 5.44l.94 2.06.94-2.06 2.06-.94-2.06-.94-.94-2.06-.94 2.06-2.06.94zm-11 1L8.5 8.5l.94-2.06 2.06-.94-2.06-.94L8.5 2.5l-.94 2.06-2.06.94zm10 10l.94 2.06.94-2.06 2.06-.94-2.06-.94-.94-2.06-.94 2.06-2.06.94z\"/><path d=\"M17.41 7.96l-1.37-1.37c-.4-.4-.92-.59-1.43-.59-.52 0-1.04.2-1.43.59L10.3 9.45l-7.72 7.72c-.78.78-.78 2.05 0 2.83L4 21.41c.39.39.9.59 1.41.59.51 0 1.02-.2 1.41-.59l7.78-7.78 2.81-2.81c.8-.78.8-2.07 0-2.86zM5.41 20L4 18.59l7.72-7.72 1.47 1.35L5.41 20z\"/>\n",
              "  </svg>\n",
              "      </button>\n",
              "      \n",
              "  <style>\n",
              "    .colab-df-container {\n",
              "      display:flex;\n",
              "      flex-wrap:wrap;\n",
              "      gap: 12px;\n",
              "    }\n",
              "\n",
              "    .colab-df-convert {\n",
              "      background-color: #E8F0FE;\n",
              "      border: none;\n",
              "      border-radius: 50%;\n",
              "      cursor: pointer;\n",
              "      display: none;\n",
              "      fill: #1967D2;\n",
              "      height: 32px;\n",
              "      padding: 0 0 0 0;\n",
              "      width: 32px;\n",
              "    }\n",
              "\n",
              "    .colab-df-convert:hover {\n",
              "      background-color: #E2EBFA;\n",
              "      box-shadow: 0px 1px 2px rgba(60, 64, 67, 0.3), 0px 1px 3px 1px rgba(60, 64, 67, 0.15);\n",
              "      fill: #174EA6;\n",
              "    }\n",
              "\n",
              "    [theme=dark] .colab-df-convert {\n",
              "      background-color: #3B4455;\n",
              "      fill: #D2E3FC;\n",
              "    }\n",
              "\n",
              "    [theme=dark] .colab-df-convert:hover {\n",
              "      background-color: #434B5C;\n",
              "      box-shadow: 0px 1px 3px 1px rgba(0, 0, 0, 0.15);\n",
              "      filter: drop-shadow(0px 1px 2px rgba(0, 0, 0, 0.3));\n",
              "      fill: #FFFFFF;\n",
              "    }\n",
              "  </style>\n",
              "\n",
              "      <script>\n",
              "        const buttonEl =\n",
              "          document.querySelector('#df-2f084935-ec9d-4e42-99b3-79b069863986 button.colab-df-convert');\n",
              "        buttonEl.style.display =\n",
              "          google.colab.kernel.accessAllowed ? 'block' : 'none';\n",
              "\n",
              "        async function convertToInteractive(key) {\n",
              "          const element = document.querySelector('#df-2f084935-ec9d-4e42-99b3-79b069863986');\n",
              "          const dataTable =\n",
              "            await google.colab.kernel.invokeFunction('convertToInteractive',\n",
              "                                                     [key], {});\n",
              "          if (!dataTable) return;\n",
              "\n",
              "          const docLinkHtml = 'Like what you see? Visit the ' +\n",
              "            '<a target=\"_blank\" href=https://colab.research.google.com/notebooks/data_table.ipynb>data table notebook</a>'\n",
              "            + ' to learn more about interactive tables.';\n",
              "          element.innerHTML = '';\n",
              "          dataTable['output_type'] = 'display_data';\n",
              "          await google.colab.output.renderOutput(dataTable, element);\n",
              "          const docLink = document.createElement('div');\n",
              "          docLink.innerHTML = docLinkHtml;\n",
              "          element.appendChild(docLink);\n",
              "        }\n",
              "      </script>\n",
              "    </div>\n",
              "  </div>\n",
              "  "
            ]
          },
          "metadata": {},
          "execution_count": 158
        }
      ]
    },
    {
      "cell_type": "code",
      "source": [
        "X = data.drop('Outcome', axis=1).values\n",
        "y = data.Outcome.values"
      ],
      "metadata": {
        "id": "fr8puesHAaKF"
      },
      "execution_count": null,
      "outputs": []
    },
    {
      "cell_type": "code",
      "source": [
        "#нормализация\n",
        "scal = StandardScaler()\n",
        "X = scal.fit_transform(X)"
      ],
      "metadata": {
        "id": "4c782KfhAaHS"
      },
      "execution_count": null,
      "outputs": []
    },
    {
      "cell_type": "code",
      "source": [
        "#разделение данный на обучащий и тестовый набор\n",
        "X_train,X_test,y_train, y_test = train_test_split(X,y,test_size = 0.2, random_state=0)"
      ],
      "metadata": {
        "id": "-v-WyVsZBPqj"
      },
      "execution_count": null,
      "outputs": []
    },
    {
      "cell_type": "markdown",
      "source": [
        "# Создание нейронной сети"
      ],
      "metadata": {
        "id": "3gU-CfPQBnz8"
      }
    },
    {
      "cell_type": "code",
      "source": [
        "# Определение модели\n",
        "\n",
        "#для 3 слоев\n",
        "class NeuralNet3(nn.Module):\n",
        "    def __init__(self, input_size, hidden_size, output_size):\n",
        "        super(NeuralNet3, self).__init__()\n",
        "        self.fc1 = nn.Linear(input_size, hidden_size)\n",
        "        self.fc2 = nn.Linear(hidden_size, hidden_size)\n",
        "        self.fc3 = nn.Linear(hidden_size, output_size)\n",
        "        self.relu = nn.ReLU()\n",
        "\n",
        "    def forward(self, x):\n",
        "        out = self.relu(self.fc1(x))\n",
        "        out = self.relu(self.fc2(out))\n",
        "        out = torch.sigmoid(self.fc3(out))\n",
        "\n",
        "        return out\n",
        "\n",
        "#для 4 слоев\n",
        "class NeuralNet4(nn.Module):\n",
        "    def __init__(self, input_size, hidden_size, output_size):\n",
        "        super(NeuralNet4, self).__init__()\n",
        "        self.fc1 = nn.Linear(input_size, hidden_size)\n",
        "        self.fc2 = nn.Linear(hidden_size, hidden_size)\n",
        "        self.fc3 = nn.Linear(hidden_size, hidden_size)\n",
        "        self.fc4 = nn.Linear(hidden_size, output_size)\n",
        "        self.relu = nn.ReLU()\n",
        "\n",
        "    def forward(self, x):\n",
        "        out = torch.relu(self.fc1(x))\n",
        "        out = torch.relu(self.fc2(out))\n",
        "        out = torch.relu(self.fc3(out))\n",
        "        out = torch.sigmoid(self.fc4(out))\n",
        "        return out"
      ],
      "metadata": {
        "id": "9hCZtG9YeTKN"
      },
      "execution_count": null,
      "outputs": []
    },
    {
      "cell_type": "markdown",
      "source": [
        "# Обучение\n"
      ],
      "metadata": {
        "id": "HQ0DdBmLDvJr"
      }
    },
    {
      "cell_type": "markdown",
      "source": [
        "### Задание параметров\n"
      ],
      "metadata": {
        "id": "qEOsMJlJD0Gy"
      }
    },
    {
      "cell_type": "code",
      "source": [
        "learning_rate = 0.001\n",
        "\n",
        "hiddenlay3 = 200\n",
        "hiddenlay4 = 400\n",
        "\n",
        "output_size = 2"
      ],
      "metadata": {
        "id": "YcneuBSDeVr6"
      },
      "execution_count": null,
      "outputs": []
    },
    {
      "cell_type": "markdown",
      "source": [
        "### обучаем\n"
      ],
      "metadata": {
        "id": "VXkvcHZxEP7S"
      }
    },
    {
      "cell_type": "code",
      "source": [
        "model3 = NeuralNet3(X_train.shape[1], hiddenlay3, output_size)\n",
        "model4 = NeuralNet4(X_train.shape[1], hiddenlay4, output_size)"
      ],
      "metadata": {
        "id": "ZGAiT44_eVmI"
      },
      "execution_count": null,
      "outputs": []
    },
    {
      "cell_type": "code",
      "source": [
        "criterion = nn.CrossEntropyLoss()\n",
        "\n",
        "#Adagrad - Адаптивный оптимизатор, который адаптирует скорость обучения для каждого параметра, учитывая их историю градиентов.\n",
        "optimizer3 = optim.Adagrad(model3.parameters(), learning_rate)\n",
        "optimizer4 = optim.Adagrad(model4.parameters(), learning_rate)"
      ],
      "metadata": {
        "id": "wx1n5RVKeTHJ"
      },
      "execution_count": null,
      "outputs": []
    },
    {
      "cell_type": "code",
      "source": [
        "#обучение 3х слойной модели\n",
        "\n",
        "num_epochs = 30\n",
        "batch_size = 15\n",
        "\n",
        "for epoch in range(num_epochs):\n",
        "  model3.train()\n",
        "  for i in range(0, len(X_train), batch_size):\n",
        "    inputs = torch.Tensor(X_train[i:i + batch_size])\n",
        "    labels = torch.LongTensor(y_train[i:i + batch_size])\n",
        "\n",
        "    optimizer3.zero_grad() # Обнуление градиентов параметров\n",
        "    # Прямой проход\n",
        "    outputs = model3(inputs)\n",
        "    loss = criterion(outputs, labels)\n",
        "    # Обратное распространение ошибки и оптимизация\n",
        "    loss.backward()\n",
        "    optimizer3.step()\n",
        "\n",
        "#оценка на тестовом\n",
        "model3.eval() #режим оценки модели\n",
        "\n",
        "with torch.no_grad():\n",
        "  test_inputs = torch.Tensor(X_test)\n",
        "  predicted_labels3 = torch.argmax(model3(test_inputs), dim=1).numpy()\n",
        "\n",
        "print('Accuracy = ', accuracy_score(y_test, predicted_labels3))"
      ],
      "metadata": {
        "id": "mIPKX1p4FD8l",
        "colab": {
          "base_uri": "https://localhost:8080/"
        },
        "outputId": "64d29b3e-476f-4a3b-f5d8-8c29992628df"
      },
      "execution_count": null,
      "outputs": [
        {
          "output_type": "stream",
          "name": "stdout",
          "text": [
            "Accuracy =  0.7987012987012987\n"
          ]
        }
      ]
    },
    {
      "cell_type": "code",
      "source": [
        "#обучение 4х слойной модели\n",
        "\n",
        "for epoch in range(num_epochs):\n",
        "  model4.train()\n",
        "  for i in range(0, len(X_train), batch_size):\n",
        "    inputs = torch.Tensor(X_train[i:i + batch_size])\n",
        "    labels = torch.LongTensor(y_train[i:i + batch_size])\n",
        "\n",
        "    optimizer4.zero_grad() # Обнуление градиентов параметров\n",
        "    # Прямой проход\n",
        "    outputs = model4(inputs)\n",
        "    loss = criterion(outputs, labels)\n",
        "    # Обратное распространение ошибки и оптимизация\n",
        "    loss.backward()\n",
        "    optimizer4.step()\n",
        "\n",
        "#оценка на тестовом\n",
        "model4.eval() #режим оценки модели\n",
        "\n",
        "with torch.no_grad():\n",
        "  test_inputs = torch.Tensor(X_test)\n",
        "  predicted_labels4 = torch.argmax(model4(test_inputs), dim=1).numpy()\n",
        "\n",
        "\n",
        "print('Accuracy = ', accuracy_score(y_test, predicted_labels4))"
      ],
      "metadata": {
        "id": "xWR8weBwGMkK",
        "colab": {
          "base_uri": "https://localhost:8080/"
        },
        "outputId": "cb17a5c4-66ad-4b8a-f7e1-6384349ef32a"
      },
      "execution_count": null,
      "outputs": [
        {
          "output_type": "stream",
          "name": "stdout",
          "text": [
            "Accuracy =  0.7857142857142857\n"
          ]
        }
      ]
    },
    {
      "cell_type": "code",
      "source": [],
      "metadata": {
        "id": "CsjhtpNSJbi1"
      },
      "execution_count": null,
      "outputs": []
    }
  ]
}